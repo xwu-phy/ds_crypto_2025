{
 "cells": [
  {
   "cell_type": "code",
   "execution_count": 2,
   "id": "fb57b371",
   "metadata": {},
   "outputs": [],
   "source": [
    "import numpy as np\n",
    "import pandas as pd\n",
    "import matplotlib.pyplot as plt\n",
    "import seaborn as sns\n",
    "sns.set(style=\"whitegrid\")\n",
    "import datetime as dt\n",
    "import os\n",
    "from glob import glob"
   ]
  },
  {
   "cell_type": "markdown",
   "id": "9ae95642",
   "metadata": {},
   "source": [
    "## Data Preprocessing"
   ]
  },
  {
   "cell_type": "markdown",
   "id": "cc744b07",
   "metadata": {},
   "source": [
    "### Data Loading\n",
    "\n",
    "all data in one big DataFrame"
   ]
  },
  {
   "cell_type": "code",
   "execution_count": 3,
   "id": "be75c6a5",
   "metadata": {},
   "outputs": [],
   "source": [
    "curr_path = os.getcwd()\n",
    "root_path = curr_path + \"/data/OHLCV.parquet\"\n",
    "all_coins = sorted(glob(os.path.join(root_path, \"coin_id=*\")))\n",
    "\n",
    "df_all_coins = []\n",
    "\n",
    "for coin_path in all_coins:\n",
    "    coin_id = os.path.basename(coin_path).split(\"=\")[1]  #  BTCUSDT etc\n",
    "    \n",
    "    year_dirs = sorted(glob(os.path.join(coin_path, \"year=*\")))\n",
    "    \n",
    "    for year_path in year_dirs:\n",
    "        files = sorted(glob(os.path.join(year_path, \"*.parquet\")))\n",
    "        for f in files:\n",
    "            df = pd.read_parquet(f)\n",
    "            df[\"coin_id\"] = coin_id  # type of coin\n",
    "            df_all_coins.append(df)\n",
    "\n",
    "# One Big DataFrame\n",
    "df_all = pd.concat(df_all_coins, ignore_index=True)\n",
    "# Convert timestamp to datetime\n",
    "df_all['datetime'] = pd.to_datetime(df_all['timestamp'], unit='ms')\n",
    "# sort by coin_id and timestamp\n",
    "df_all = df_all.sort_values(['coin_id', 'datetime']).set_index('datetime')"
   ]
  },
  {
   "cell_type": "code",
   "execution_count": 4,
   "id": "60df2472",
   "metadata": {},
   "outputs": [
    {
     "name": "stdout",
     "output_type": "stream",
     "text": [
      "<class 'pandas.core.frame.DataFrame'>\n",
      "(11349947, 12)\n",
      "Index(['timestamp', 'open', 'high', 'low', 'close', 'volume', 'close_time',\n",
      "       'quote_asset_volume', 'number_of_trades', 'taker_buy_base_asset_volume',\n",
      "       'taker_buy_quote_asset_volume', 'coin_id'],\n",
      "      dtype='object')\n",
      "timestamp                       datetime64[ns]\n",
      "open                                   float64\n",
      "high                                   float64\n",
      "low                                    float64\n",
      "close                                  float64\n",
      "volume                                 float64\n",
      "close_time                              object\n",
      "quote_asset_volume                     float64\n",
      "number_of_trades                         int64\n",
      "taker_buy_base_asset_volume            float64\n",
      "taker_buy_quote_asset_volume           float64\n",
      "coin_id                                 object\n",
      "dtype: object\n",
      "                              timestamp     open     high      low    close  \\\n",
      "datetime                                                                      \n",
      "2021-01-01 00:00:00 2021-01-01 00:00:00  37.3596  37.3702  37.3381  37.3700   \n",
      "2021-01-01 00:01:00 2021-01-01 00:01:00  37.3700  37.4221  37.3487  37.3910   \n",
      "2021-01-01 00:02:00 2021-01-01 00:02:00  37.3905  37.4020  37.3298  37.3311   \n",
      "2021-01-01 00:03:00 2021-01-01 00:03:00  37.3311  37.3367  37.2729  37.2800   \n",
      "2021-01-01 00:04:00 2021-01-01 00:04:00  37.2753  37.2997  37.2502  37.2639   \n",
      "\n",
      "                       volume               close_time  quote_asset_volume  \\\n",
      "datetime                                                                     \n",
      "2021-01-01 00:00:00   807.624  2021-01-01 00:00:59.999        30170.884305   \n",
      "2021-01-01 00:01:00  2734.241  2021-01-01 00:01:59.999       102217.111475   \n",
      "2021-01-01 00:02:00   778.868  2021-01-01 00:02:59.999        29092.024959   \n",
      "2021-01-01 00:03:00   890.907  2021-01-01 00:03:59.999        33230.401819   \n",
      "2021-01-01 00:04:00   483.711  2021-01-01 00:04:59.999        18028.653726   \n",
      "\n",
      "                     number_of_trades  taker_buy_base_asset_volume  \\\n",
      "datetime                                                             \n",
      "2021-01-01 00:00:00               146                      486.275   \n",
      "2021-01-01 00:01:00               230                     1770.005   \n",
      "2021-01-01 00:02:00               141                      266.496   \n",
      "2021-01-01 00:03:00               156                      284.896   \n",
      "2021-01-01 00:04:00               126                      120.471   \n",
      "\n",
      "                     taker_buy_quote_asset_volume  coin_id  \n",
      "datetime                                                    \n",
      "2021-01-01 00:00:00                  18167.580104  BNBUSDT  \n",
      "2021-01-01 00:01:00                  66157.450698  BNBUSDT  \n",
      "2021-01-01 00:02:00                   9953.368200  BNBUSDT  \n",
      "2021-01-01 00:03:00                  10625.383029  BNBUSDT  \n",
      "2021-01-01 00:04:00                   4491.430352  BNBUSDT  \n"
     ]
    }
   ],
   "source": [
    "print(type(df_all))\n",
    "print(df_all.shape)\n",
    "print(df_all.columns)\n",
    "print(df_all.dtypes)\n",
    "print(df_all.head())"
   ]
  },
  {
   "cell_type": "code",
   "execution_count": 5,
   "id": "401561ea",
   "metadata": {},
   "outputs": [
    {
     "name": "stdout",
     "output_type": "stream",
     "text": [
      "['BNBUSDT' 'BTCUSDT' 'ETHUSDT' 'SOLUSDT' 'XRPUSDT']\n"
     ]
    }
   ],
   "source": [
    "all_coins = sorted(glob(os.path.join(root_path, \"coin_id=*\")))\n",
    "sorted_coin_ids = df_all['coin_id'].unique()\n",
    "print(sorted_coin_ids)"
   ]
  },
  {
   "cell_type": "markdown",
   "id": "dbefcb0c",
   "metadata": {},
   "source": [
    "#### Data Inspection"
   ]
  },
  {
   "cell_type": "code",
   "execution_count": 6,
   "id": "a7658d99",
   "metadata": {},
   "outputs": [
    {
     "data": {
      "text/plain": [
       "timestamp                       0\n",
       "open                            0\n",
       "high                            0\n",
       "low                             0\n",
       "close                           0\n",
       "volume                          0\n",
       "close_time                      0\n",
       "quote_asset_volume              0\n",
       "number_of_trades                0\n",
       "taker_buy_base_asset_volume     0\n",
       "taker_buy_quote_asset_volume    0\n",
       "coin_id                         0\n",
       "dtype: int64"
      ]
     },
     "execution_count": 6,
     "metadata": {},
     "output_type": "execute_result"
    }
   ],
   "source": [
    "# Missing Value Inspection\n",
    "df_all.isnull().sum()"
   ]
  },
  {
   "cell_type": "code",
   "execution_count": 7,
   "id": "46faaa8f",
   "metadata": {},
   "outputs": [
    {
     "data": {
      "text/plain": [
       "np.int64(5)"
      ]
     },
     "execution_count": 7,
     "metadata": {},
     "output_type": "execute_result"
    }
   ],
   "source": [
    "# Check for duplicate rows\n",
    "df_all.duplicated().sum()"
   ]
  },
  {
   "cell_type": "code",
   "execution_count": 10,
   "id": "c2d208ba",
   "metadata": {},
   "outputs": [
    {
     "name": "stdout",
     "output_type": "stream",
     "text": [
      "                              timestamp      open        high         low  \\\n",
      "datetime                                                                    \n",
      "2025-04-18 03:00:00 2025-04-18 03:00:00    589.79    590.4500    589.7700   \n",
      "2025-04-18 03:00:00 2025-04-18 03:00:00  84888.00  84897.0600  84881.6700   \n",
      "2025-04-18 03:00:00 2025-04-18 03:00:00   1584.57   1585.0200   1584.2100   \n",
      "2025-04-18 03:00:00 2025-04-18 03:00:00    135.31    135.3600    135.2000   \n",
      "2025-04-18 03:00:00 2025-04-18 03:00:00      2.06      2.0609      2.0593   \n",
      "\n",
      "                          close       volume                  close_time  \\\n",
      "datetime                                                                   \n",
      "2025-04-18 03:00:00    590.4400    327.21200  2025-04-18 03:00:59.999000   \n",
      "2025-04-18 03:00:00  84881.6800      4.97719  2025-04-18 03:00:59.999000   \n",
      "2025-04-18 03:00:00   1584.7000    133.30930  2025-04-18 03:00:59.999000   \n",
      "2025-04-18 03:00:00    135.3400   1341.06500  2025-04-18 03:00:59.999000   \n",
      "2025-04-18 03:00:00      2.0599  15909.00000  2025-04-18 03:00:59.999000   \n",
      "\n",
      "                     quote_asset_volume  number_of_trades  \\\n",
      "datetime                                                    \n",
      "2025-04-18 03:00:00       193082.823660               907   \n",
      "2025-04-18 03:00:00       422514.450953               740   \n",
      "2025-04-18 03:00:00       211266.436706              1080   \n",
      "2025-04-18 03:00:00       181437.815140              1407   \n",
      "2025-04-18 03:00:00        32776.246440               506   \n",
      "\n",
      "                     taker_buy_base_asset_volume  \\\n",
      "datetime                                           \n",
      "2025-04-18 03:00:00                    181.79800   \n",
      "2025-04-18 03:00:00                      2.63558   \n",
      "2025-04-18 03:00:00                     47.98170   \n",
      "2025-04-18 03:00:00                    727.26000   \n",
      "2025-04-18 03:00:00                   5308.60000   \n",
      "\n",
      "                     taker_buy_quote_asset_volume  coin_id  \n",
      "datetime                                                    \n",
      "2025-04-18 03:00:00                 107283.527900  BNBUSDT  \n",
      "2025-04-18 03:00:00                 223728.271814  BTCUSDT  \n",
      "2025-04-18 03:00:00                  76036.174436  ETHUSDT  \n",
      "2025-04-18 03:00:00                  98396.165830  SOLUSDT  \n",
      "2025-04-18 03:00:00                  10937.086710  XRPUSDT  \n"
     ]
    }
   ],
   "source": [
    "# Show all duplicated rows (excluding the first occurrence)\n",
    "duplicates = df_all[df_all.duplicated()]\n",
    "print(duplicates)"
   ]
  },
  {
   "cell_type": "code",
   "execution_count": 12,
   "id": "338ea425",
   "metadata": {},
   "outputs": [
    {
     "name": "stdout",
     "output_type": "stream",
     "text": [
      "                              timestamp      open        high         low  \\\n",
      "datetime                                                                    \n",
      "2025-04-18 03:00:00 2025-04-18 03:00:00    589.79    590.4500    589.7700   \n",
      "2025-04-18 03:00:00 2025-04-18 03:00:00  84888.00  84897.0600  84881.6700   \n",
      "2025-04-18 03:00:00 2025-04-18 03:00:00   1584.57   1585.0200   1584.2100   \n",
      "2025-04-18 03:00:00 2025-04-18 03:00:00    135.31    135.3600    135.2000   \n",
      "2025-04-18 03:00:00 2025-04-18 03:00:00      2.06      2.0609      2.0593   \n",
      "\n",
      "                          close       volume                  close_time  \\\n",
      "datetime                                                                   \n",
      "2025-04-18 03:00:00    590.4400    327.21200  2025-04-18 03:00:59.999000   \n",
      "2025-04-18 03:00:00  84881.6800      4.97719  2025-04-18 03:00:59.999000   \n",
      "2025-04-18 03:00:00   1584.7000    133.30930  2025-04-18 03:00:59.999000   \n",
      "2025-04-18 03:00:00    135.3400   1341.06500  2025-04-18 03:00:59.999000   \n",
      "2025-04-18 03:00:00      2.0599  15909.00000  2025-04-18 03:00:59.999000   \n",
      "\n",
      "                     quote_asset_volume  number_of_trades  \\\n",
      "datetime                                                    \n",
      "2025-04-18 03:00:00       193082.823660               907   \n",
      "2025-04-18 03:00:00       422514.450953               740   \n",
      "2025-04-18 03:00:00       211266.436706              1080   \n",
      "2025-04-18 03:00:00       181437.815140              1407   \n",
      "2025-04-18 03:00:00        32776.246440               506   \n",
      "\n",
      "                     taker_buy_base_asset_volume  \\\n",
      "datetime                                           \n",
      "2025-04-18 03:00:00                    181.79800   \n",
      "2025-04-18 03:00:00                      2.63558   \n",
      "2025-04-18 03:00:00                     47.98170   \n",
      "2025-04-18 03:00:00                    727.26000   \n",
      "2025-04-18 03:00:00                   5308.60000   \n",
      "\n",
      "                     taker_buy_quote_asset_volume  coin_id  \n",
      "datetime                                                    \n",
      "2025-04-18 03:00:00                 107283.527900  BNBUSDT  \n",
      "2025-04-18 03:00:00                 223728.271814  BTCUSDT  \n",
      "2025-04-18 03:00:00                  76036.174436  ETHUSDT  \n",
      "2025-04-18 03:00:00                  98396.165830  SOLUSDT  \n",
      "2025-04-18 03:00:00                  10937.086710  XRPUSDT  \n"
     ]
    }
   ],
   "source": [
    "duplicates_subset = df_all[df_all.duplicated(subset=['timestamp', 'coin_id'])]\n",
    "print(duplicates_subset)"
   ]
  },
  {
   "cell_type": "code",
   "execution_count": 13,
   "id": "35a7a291",
   "metadata": {},
   "outputs": [],
   "source": [
    "# Drop duplicates based on 'timestamp' and 'coin_id', keeping the first occurrence\n",
    "df_all = df_all.drop_duplicates(subset=['timestamp', 'coin_id'], keep='first')"
   ]
  },
  {
   "cell_type": "code",
   "execution_count": 14,
   "id": "830a8b5f",
   "metadata": {},
   "outputs": [
    {
     "name": "stdout",
     "output_type": "stream",
     "text": [
      "Remaining duplicates: 0\n"
     ]
    }
   ],
   "source": [
    "print(\"Remaining duplicates:\", df_all.duplicated(subset=['timestamp', 'coin_id']).sum())"
   ]
  },
  {
   "cell_type": "code",
   "execution_count": 8,
   "id": "834058cc",
   "metadata": {},
   "outputs": [
    {
     "name": "stdout",
     "output_type": "stream",
     "text": [
      "open     0\n",
      "high     0\n",
      "low      0\n",
      "close    0\n",
      "dtype: int64\n"
     ]
    }
   ],
   "source": [
    "# Look for negative or zero prices (should not happen)\n",
    "print((df_all[['open', 'high', 'low', 'close']] <= 0).sum())"
   ]
  },
  {
   "cell_type": "code",
   "execution_count": null,
   "id": "229963b4",
   "metadata": {},
   "outputs": [
    {
     "name": "stdout",
     "output_type": "stream",
     "text": [
      "Full count of timestamps: 2271061.\n",
      "Coin BNBUSDT has 2269988 timestamps. Coin BNBUSDT is missing 1073 timestamps.\n",
      "Coin BTCUSDT has 2269988 timestamps. Coin BTCUSDT is missing 1073 timestamps.\n",
      "Coin ETHUSDT has 2269988 timestamps. Coin ETHUSDT is missing 1073 timestamps.\n",
      "Coin SOLUSDT has 2269989 timestamps. Coin SOLUSDT is missing 1072 timestamps.\n",
      "Coin XRPUSDT has 2269989 timestamps. Coin XRPUSDT is missing 1072 timestamps.\n"
     ]
    }
   ],
   "source": [
    "# Find missing 1-minute timestamps for each coin\n",
    "full_range = pd.date_range(\n",
    "    start=df_all['timestamp'].min(),\n",
    "    end=df_all['timestamp'].max(),\n",
    "    freq='1min' \n",
    ")\n",
    "\n",
    "missing_data = dict()\n",
    "print(f\"Full count of timestamps: {len(full_range)}.\")\n",
    "\n",
    "coin_types = df_all['coin_id'].unique()\n",
    "\n",
    "for coin in coin_types:\n",
    "    coin_df = df_all[df_all['coin_id'] == coin]\n",
    "    print(f\"Coin {coin} has {len(coin_df)} timestamps.\", end=' ')\n",
    "    \n",
    "    missing_timestamps = full_range[~full_range.isin(coin_df['timestamp'])]\n",
    "    missing_data[coin] = missing_timestamps\n",
    "    \n",
    "    print(f\"Coin {coin} is missing {len(missing_timestamps)} timestamps.\")"
   ]
  },
  {
   "cell_type": "markdown",
   "id": "d0c2458a",
   "metadata": {},
   "source": [
    "#### Forward-fill"
   ]
  },
  {
   "cell_type": "code",
   "execution_count": 16,
   "id": "40185908",
   "metadata": {},
   "outputs": [],
   "source": [
    "# Step 1: Build full timestamp index\n",
    "full_range = pd.date_range(\n",
    "    start=df_all['timestamp'].min(),\n",
    "    end=df_all['timestamp'].max(),\n",
    "    freq='1min'\n",
    ")\n",
    "\n",
    "# Step 2: Reindex and forward-fill per coin\n",
    "df_filled_list = []\n",
    "\n",
    "for coin in df_all['coin_id'].unique():\n",
    "    coin_df = df_all[df_all['coin_id'] == coin].copy()\n",
    "    coin_df = coin_df.set_index('timestamp')\n",
    "    \n",
    "    # Reindex to full timestamp grid\n",
    "    coin_df = coin_df.reindex(full_range)\n",
    "    \n",
    "    # Restore coin_id\n",
    "    coin_df['coin_id'] = coin\n",
    "\n",
    "    # Forward-fill all columns except coin_id\n",
    "    coin_df.update(coin_df.ffill())\n",
    "\n",
    "    df_filled_list.append(coin_df)\n",
    "\n",
    "# Step 3: Combine all coins back together\n",
    "df_filled = pd.concat(df_filled_list).reset_index().rename(columns={'index': 'timestamp'})"
   ]
  },
  {
   "cell_type": "code",
   "execution_count": 17,
   "id": "99ca217a",
   "metadata": {},
   "outputs": [
    {
     "name": "stdout",
     "output_type": "stream",
     "text": [
      "coin_id\n",
      "BNBUSDT    2271061\n",
      "BTCUSDT    2271061\n",
      "ETHUSDT    2271061\n",
      "SOLUSDT    2271061\n",
      "XRPUSDT    2271061\n",
      "Name: timestamp, dtype: int64\n"
     ]
    }
   ],
   "source": [
    "# Sort for cleanliness\n",
    "df_filled = df_filled.sort_values(['coin_id', 'timestamp'])\n",
    "\n",
    "# Optional: Check again whether all coins now have full timestamps\n",
    "print(df_filled.groupby('coin_id')['timestamp'].nunique())  # should match len(full_range)"
   ]
  },
  {
   "cell_type": "markdown",
   "id": "9a472fbd",
   "metadata": {},
   "source": [
    "#### 5-minute resampling"
   ]
  },
  {
   "cell_type": "code",
   "execution_count": 18,
   "id": "16d7e82f",
   "metadata": {},
   "outputs": [
    {
     "name": "stderr",
     "output_type": "stream",
     "text": [
      "/var/folders/bj/t2psl0l57gz376bkt4cjp8l00000gn/T/ipykernel_28597/633000532.py:10: FutureWarning: 'T' is deprecated and will be removed in a future version, please use 'min' instead.\n",
      "  .resample('5T')  # 5-minute bins\n"
     ]
    }
   ],
   "source": [
    "# Step 1: Ensure timestamp is in datetime format and set as index\n",
    "df_filled['timestamp'] = pd.to_datetime(df_filled['timestamp'])\n",
    "df_filled = df_filled.sort_values(['coin_id', 'timestamp'])\n",
    "df_filled = df_filled.set_index('timestamp')\n",
    "\n",
    "# Step 2: Group by coin and resample to 5-minute intervals\n",
    "df_5min = (\n",
    "    df_filled\n",
    "    .groupby('coin_id')\n",
    "    .resample('5T')  # 5-minute bins\n",
    "    .agg({\n",
    "        'open': 'first',\n",
    "        'high': 'max',\n",
    "        'low': 'min',\n",
    "        'close': 'last',\n",
    "        'volume': 'sum',\n",
    "        'quote_asset_volume': 'sum',\n",
    "        'number_of_trades': 'sum',\n",
    "        'taker_buy_base_asset_volume': 'sum',\n",
    "        'taker_buy_quote_asset_volume': 'sum'\n",
    "    })\n",
    "    .dropna(subset=['open'])  # remove empty bins\n",
    "    .reset_index()\n",
    ")"
   ]
  },
  {
   "cell_type": "code",
   "execution_count": 19,
   "id": "bf2be733",
   "metadata": {},
   "outputs": [
    {
     "name": "stdout",
     "output_type": "stream",
     "text": [
      "coin_id\n",
      "BNBUSDT    454213\n",
      "BTCUSDT    454213\n",
      "ETHUSDT    454213\n",
      "SOLUSDT    454213\n",
      "XRPUSDT    454213\n",
      "Name: timestamp, dtype: int64\n",
      "   coin_id           timestamp     open     high      low    close     volume  \\\n",
      "0  BNBUSDT 2021-01-01 00:00:00  37.3596  37.4221  37.2502  37.2639   5695.351   \n",
      "1  BNBUSDT 2021-01-01 00:05:00  37.2596  37.2850  37.0743  37.1082  21319.204   \n",
      "2  BNBUSDT 2021-01-01 00:10:00  37.1082  37.1546  36.9706  37.0022   8278.101   \n",
      "3  BNBUSDT 2021-01-01 00:15:00  37.0134  37.1332  36.9636  37.1200   5000.406   \n",
      "4  BNBUSDT 2021-01-01 00:20:00  37.1186  37.1302  37.0341  37.0935   6107.471   \n",
      "\n",
      "   quote_asset_volume  number_of_trades  taker_buy_base_asset_volume  \\\n",
      "0       212739.076283             799.0                     2928.143   \n",
      "1       791937.021860            1762.0                    12079.071   \n",
      "2       306915.404129            1319.0                     3180.308   \n",
      "3       185188.792115             940.0                     2133.491   \n",
      "4       226489.159293             686.0                     3158.859   \n",
      "\n",
      "   taker_buy_quote_asset_volume  \n",
      "0                 109395.212384  \n",
      "1                 448623.001496  \n",
      "2                 117931.377995  \n",
      "3                  79042.101395  \n",
      "4                 117137.329999  \n"
     ]
    }
   ],
   "source": [
    "print(df_5min.groupby('coin_id')['timestamp'].nunique())  #  1/5 ≈ 454212 \n",
    "print(df_5min.head())"
   ]
  },
  {
   "cell_type": "markdown",
   "id": "df660a94",
   "metadata": {},
   "source": [
    "#### Save cleaned data"
   ]
  },
  {
   "cell_type": "code",
   "execution_count": 20,
   "id": "4b4467c8",
   "metadata": {},
   "outputs": [],
   "source": [
    "# Save cleaned 1-minute data\n",
    "df_filled.to_parquet(\"data/cleaned_1min.parquet\", index=False)\n",
    "\n",
    "# Save resampled 5-minute data\n",
    "df_5min.to_parquet(\"data/resampled_5min.parquet\", index=False)"
   ]
  },
  {
   "cell_type": "code",
   "execution_count": null,
   "id": "0c0cc54b",
   "metadata": {},
   "outputs": [],
   "source": []
  }
 ],
 "metadata": {
  "kernelspec": {
   "display_name": "erdos_summer_2025",
   "language": "python",
   "name": "python3"
  },
  "language_info": {
   "codemirror_mode": {
    "name": "ipython",
    "version": 3
   },
   "file_extension": ".py",
   "mimetype": "text/x-python",
   "name": "python",
   "nbconvert_exporter": "python",
   "pygments_lexer": "ipython3",
   "version": "3.12.10"
  }
 },
 "nbformat": 4,
 "nbformat_minor": 5
}
